{
  "nbformat": 4,
  "nbformat_minor": 0,
  "metadata": {
    "colab": {
      "provenance": []
    },
    "kernelspec": {
      "name": "python3",
      "display_name": "Python 3"
    },
    "language_info": {
      "name": "python"
    }
  },
  "cells": [
    {
      "cell_type": "code",
      "execution_count": 1,
      "metadata": {
        "colab": {
          "base_uri": "https://localhost:8080/"
        },
        "id": "NAYuw7aVaVNL",
        "outputId": "f43a2c67-772e-40ba-811c-7569ce63fc3c"
      },
      "outputs": [
        {
          "output_type": "stream",
          "name": "stdout",
          "text": [
            "8\n",
            "16\n",
            "81\n",
            "25\n",
            "Function used in partial function pow2 : <function power at 0x783710df5bd0>\n",
            "Default keywords for pow2 : {'b': 2}\n",
            "Default arguments for power_of_5 : (5,)\n"
          ]
        }
      ],
      "source": [
        "from functools import partial\n",
        "def power(a, b):\n",
        "\treturn a**b\n",
        "pow2 = partial(power, b=2)\n",
        "pow4 = partial(power, b=4)\n",
        "power_of_5 = partial(power, 5)\n",
        "print(power(2, 3))\n",
        "print(pow2(4))\n",
        "print(pow4(3))\n",
        "print(power_of_5(2))\n",
        "print('Function used in partial function pow2 :', pow2.func)\n",
        "print('Default keywords for pow2 :', pow2.keywords)\n",
        "print('Default arguments for power_of_5 :', power_of_5.args)"
      ]
    },
    {
      "cell_type": "code",
      "source": [
        "from functools import partialmethod\n",
        "\n",
        "class Demo:\n",
        "\tdef __init__(self):\n",
        "\t\tself.color = 'black'\n",
        "\n",
        "\tdef _color(self, type):\n",
        "\t\tself.color = type\n",
        "\n",
        "\tset_red = partialmethod(_color, type='red')\n",
        "\tset_blue = partialmethod(_color, type='blue')\n",
        "\tset_green = partialmethod(_color, type='green')\n",
        "\n",
        "\n",
        "obj = Demo()\n",
        "print(obj.color)\n",
        "\n",
        "obj.set_blue()\n",
        "print(obj.color)\n",
        "\n",
        "obj.set_red()\n",
        "print(obj.color)\n",
        "\n",
        "obj.set_green()\n",
        "print(obj.color)"
      ],
      "metadata": {
        "colab": {
          "base_uri": "https://localhost:8080/"
        },
        "id": "2xwdVzIFcHCc",
        "outputId": "d378f183-e364-47a5-8d61-0b9b42b3a03b"
      },
      "execution_count": 3,
      "outputs": [
        {
          "output_type": "stream",
          "name": "stdout",
          "text": [
            "black\n",
            "blue\n",
            "red\n",
            "green\n"
          ]
        }
      ]
    },
    {
      "cell_type": "code",
      "source": [
        "from functools import cmp_to_key\n",
        "def cmp_fun(a, b):\n",
        "\tif a[-1] > b[-1]:\n",
        "\t\treturn 1\n",
        "\telif a[-1] < b[-1]:\n",
        "\t\treturn -1\n",
        "\telse:\n",
        "\t\treturn 0\n",
        "list1 = ['A', 'M', 'Z']\n",
        "l = sorted(list1, key = cmp_to_key(cmp_fun))\n",
        "print('sorted list :', l)\n"
      ],
      "metadata": {
        "colab": {
          "base_uri": "https://localhost:8080/"
        },
        "id": "sXuOyuwEcHFk",
        "outputId": "cbded90a-0bdb-4f49-98ae-134e0baeba17"
      },
      "execution_count": 4,
      "outputs": [
        {
          "output_type": "stream",
          "name": "stdout",
          "text": [
            "sorted list : ['A', 'M', 'Z']\n"
          ]
        }
      ]
    },
    {
      "cell_type": "code",
      "source": [
        "from functools import reduce\n",
        "list1 = [2, 4, 7, 9, 1, 3]\n",
        "sum_of_list1 = reduce(lambda a, b:a + b, list1)\n",
        "list2 = [\"abc\", \"xyz\", \"def\"]\n",
        "max_of_list2 = reduce(lambda a, b:a if a>b else b, list2)\n",
        "print('Sum of list1 :', sum_of_list1)\n",
        "print('Maximum of list2 :', max_of_list2)\n"
      ],
      "metadata": {
        "colab": {
          "base_uri": "https://localhost:8080/"
        },
        "id": "cSyprujHcHK7",
        "outputId": "c24bde29-4e10-4453-f24f-c6bd7f07f5b0"
      },
      "execution_count": 5,
      "outputs": [
        {
          "output_type": "stream",
          "name": "stdout",
          "text": [
            "Sum of list1 : 26\n",
            "Maximum of list2 : xyz\n"
          ]
        }
      ]
    },
    {
      "cell_type": "code",
      "source": [
        "from functools import total_ordering\n",
        "\n",
        "@total_ordering\n",
        "class N:\n",
        "\tdef __init__(self, value):\n",
        "\t\tself.value = value\n",
        "\tdef __eq__(self, other):\n",
        "\t\treturn self.value == other.value\n",
        "\tdef __lt__(self, other):\n",
        "\t\treturn self.value > other.value\n",
        "\n",
        "\n",
        "print('6 > 2 :', N(6)>N(2))\n",
        "print('3 < 1 :', N(3)<N(1))\n",
        "print('2 <= 7 :', N(2)<= N(7))\n",
        "print('9 >= 10 :', N(9)>= N(10))\n",
        "print('5 == 5 :', N(5)== N(5))\n"
      ],
      "metadata": {
        "colab": {
          "base_uri": "https://localhost:8080/"
        },
        "id": "9GseNw_GcHQY",
        "outputId": "111ec8bd-7640-4d6a-9212-af5b54bcbbc8"
      },
      "execution_count": 6,
      "outputs": [
        {
          "output_type": "stream",
          "name": "stdout",
          "text": [
            "6 > 2 : False\n",
            "3 < 1 : True\n",
            "2 <= 7 : False\n",
            "9 >= 10 : True\n",
            "5 == 5 : True\n"
          ]
        }
      ]
    },
    {
      "cell_type": "code",
      "source": [],
      "metadata": {
        "id": "PSgRPvQccHS_"
      },
      "execution_count": null,
      "outputs": []
    },
    {
      "cell_type": "code",
      "source": [],
      "metadata": {
        "id": "wBqa-JEmcHV3"
      },
      "execution_count": null,
      "outputs": []
    },
    {
      "cell_type": "code",
      "source": [],
      "metadata": {
        "id": "h-T_8_qncHYW"
      },
      "execution_count": null,
      "outputs": []
    },
    {
      "cell_type": "code",
      "source": [],
      "metadata": {
        "id": "U-ILUtjzcHa6"
      },
      "execution_count": null,
      "outputs": []
    }
  ]
}