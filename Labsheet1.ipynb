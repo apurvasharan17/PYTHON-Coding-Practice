{
  "nbformat": 4,
  "nbformat_minor": 0,
  "metadata": {
    "colab": {
      "provenance": []
    },
    "kernelspec": {
      "name": "python3",
      "display_name": "Python 3"
    },
    "language_info": {
      "name": "python"
    }
  },
  "cells": [
    {
      "cell_type": "code",
      "execution_count": null,
      "metadata": {
        "colab": {
          "base_uri": "https://localhost:8080/"
        },
        "id": "x8yYwB2CJQqs",
        "outputId": "c2ec8744-8934-4528-e5d8-25d24edbc988"
      },
      "outputs": [
        {
          "output_type": "stream",
          "name": "stdout",
          "text": [
            "['False', 'None', 'True', 'and', 'as', 'assert', 'async', 'await', 'break', 'class', 'continue', 'def', 'del', 'elif', 'else', 'except', 'finally', 'for', 'from', 'global', 'if', 'import', 'in', 'is', 'lambda', 'nonlocal', 'not', 'or', 'pass', 'raise', 'return', 'try', 'while', 'with', 'yield']\n",
            "35\n"
          ]
        }
      ],
      "source": [
        "import keyword\n",
        "print(keyword.kwlist)\n",
        "a=len(keyword.kwlist)\n",
        "print(a)"
      ]
    },
    {
      "cell_type": "code",
      "source": [
        "#single line comment--->shows the single line comment.\n",
        "print('hello my dear friends')\n"
      ],
      "metadata": {
        "colab": {
          "base_uri": "https://localhost:8080/"
        },
        "id": "8HqduZU3MdCH",
        "outputId": "8aeddce1-a85b-4b42-ca5f-31585ff52b94"
      },
      "execution_count": null,
      "outputs": [
        {
          "output_type": "stream",
          "name": "stdout",
          "text": [
            "hello my dear friends\n"
          ]
        }
      ]
    },
    {
      "cell_type": "code",
      "source": [
        "\n",
        "\"\"\"multi line comment\n",
        "how are you all\n",
        "have a nice day guys\n",
        "\"\"\"\n",
        "print('hello CSE people')"
      ],
      "metadata": {
        "colab": {
          "base_uri": "https://localhost:8080/"
        },
        "id": "Cr6Sgz10Mn72",
        "outputId": "ac46f146-d3ae-4727-c926-35b9271690fc"
      },
      "execution_count": null,
      "outputs": [
        {
          "output_type": "stream",
          "name": "stdout",
          "text": [
            "hello CSE people\n"
          ]
        }
      ]
    },
    {
      "cell_type": "code",
      "source": [
        "a=50\n",
        "b=50\n",
        "c=a+b\n",
        "print(c)\n",
        "#example 2 on strings\n",
        "x='hello'\n",
        "x"
      ],
      "metadata": {
        "colab": {
          "base_uri": "https://localhost:8080/",
          "height": 53
        },
        "id": "LiP1MPSoMt53",
        "outputId": "2dc1e204-6198-4ac0-a670-2c131c3f87a7"
      },
      "execution_count": null,
      "outputs": [
        {
          "output_type": "stream",
          "name": "stdout",
          "text": [
            "100\n"
          ]
        },
        {
          "output_type": "execute_result",
          "data": {
            "text/plain": [
              "'hello'"
            ],
            "application/vnd.google.colaboratory.intrinsic+json": {
              "type": "string"
            }
          },
          "metadata": {},
          "execution_count": 4
        }
      ]
    },
    {
      "cell_type": "code",
      "source": [
        "#Creating a list with constructor()\n",
        "a=([1,2,3,4,5])\n",
        "b=([2.4,7.0,6.8])\n",
        "c=(['hello','students'])\n",
        "print(a)\n",
        "print(b)\n",
        "print(c)"
      ],
      "metadata": {
        "colab": {
          "base_uri": "https://localhost:8080/"
        },
        "id": "N4bbfIjVM0au",
        "outputId": "799a04b0-49b9-4861-da13-6f4ba6e18d50"
      },
      "execution_count": null,
      "outputs": [
        {
          "output_type": "stream",
          "name": "stdout",
          "text": [
            "[1, 2, 3, 4, 5]\n",
            "[2.4, 7.0, 6.8]\n",
            "['hello', 'students']\n"
          ]
        }
      ]
    },
    {
      "cell_type": "code",
      "source": [
        "type(a)"
      ],
      "metadata": {
        "colab": {
          "base_uri": "https://localhost:8080/"
        },
        "id": "Y2z8LaOsMyOu",
        "outputId": "c15a238f-0b3a-46bd-c0ec-2e7c6a397d42"
      },
      "execution_count": null,
      "outputs": [
        {
          "output_type": "execute_result",
          "data": {
            "text/plain": [
              "list"
            ]
          },
          "metadata": {},
          "execution_count": 6
        }
      ]
    },
    {
      "cell_type": "code",
      "source": [
        "a=(['hello',8,9,20.77])\n",
        "a"
      ],
      "metadata": {
        "colab": {
          "base_uri": "https://localhost:8080/"
        },
        "id": "7tytEyr8NI53",
        "outputId": "6b3369a5-81dc-4a20-8121-fa6d6986da9a"
      },
      "execution_count": null,
      "outputs": [
        {
          "output_type": "execute_result",
          "data": {
            "text/plain": [
              "['hello', 8, 9, 20.77]"
            ]
          },
          "metadata": {},
          "execution_count": 7
        }
      ]
    },
    {
      "cell_type": "code",
      "source": [
        "#create list using range function:\n",
        "L=list(range(0,6))\n",
        "print(L)"
      ],
      "metadata": {
        "colab": {
          "base_uri": "https://localhost:8080/"
        },
        "id": "3uHOGoWbNMPe",
        "outputId": "3d732bc2-7d2c-40c5-86a3-3a4b1e8fedf3"
      },
      "execution_count": null,
      "outputs": [
        {
          "output_type": "stream",
          "name": "stdout",
          "text": [
            "[0, 1, 2, 3, 4, 5]\n"
          ]
        }
      ]
    },
    {
      "cell_type": "code",
      "source": [
        "a=([1,2,3,4,5])\n",
        "b=([2.4,7.0,6.8])\n",
        "c=(['hello','students'])\n",
        "print(a)\n",
        "print(b)\n",
        "print(c)"
      ],
      "metadata": {
        "colab": {
          "base_uri": "https://localhost:8080/"
        },
        "id": "X_gSe0UYNVZX",
        "outputId": "0f607807-471a-454d-be9d-044a34fc1d51"
      },
      "execution_count": null,
      "outputs": [
        {
          "output_type": "stream",
          "name": "stdout",
          "text": [
            "[1, 2, 3, 4, 5]\n",
            "[2.4, 7.0, 6.8]\n",
            "['hello', 'students']\n"
          ]
        }
      ]
    },
    {
      "cell_type": "code",
      "source": [
        "type(a)"
      ],
      "metadata": {
        "colab": {
          "base_uri": "https://localhost:8080/"
        },
        "id": "q2fE0TGgNVb3",
        "outputId": "42f524ca-2a08-4a34-be7c-fbedcc0797cf"
      },
      "execution_count": null,
      "outputs": [
        {
          "output_type": "execute_result",
          "data": {
            "text/plain": [
              "list"
            ]
          },
          "metadata": {},
          "execution_count": 10
        }
      ]
    },
    {
      "cell_type": "code",
      "source": [
        "a=(['hello',8,9,20.77])\n",
        "a\n"
      ],
      "metadata": {
        "colab": {
          "base_uri": "https://localhost:8080/"
        },
        "id": "rDKTDj3UNgfX",
        "outputId": "cdc2b0a0-dfa8-4554-edbd-20068aa4e00d"
      },
      "execution_count": null,
      "outputs": [
        {
          "output_type": "execute_result",
          "data": {
            "text/plain": [
              "['hello', 8, 9, 20.77]"
            ]
          },
          "metadata": {},
          "execution_count": 11
        }
      ]
    },
    {
      "cell_type": "code",
      "source": [
        "#create list using range function:\n",
        "L=list(range(0,6))\n",
        "print(L)"
      ],
      "metadata": {
        "colab": {
          "base_uri": "https://localhost:8080/"
        },
        "id": "xUlqXFlfNgmH",
        "outputId": "df21e598-a8ab-4427-f9a9-408de6a1e0da"
      },
      "execution_count": null,
      "outputs": [
        {
          "output_type": "stream",
          "name": "stdout",
          "text": [
            "[0, 1, 2, 3, 4, 5]\n"
          ]
        }
      ]
    },
    {
      "cell_type": "code",
      "source": [
        "days=['monday','tuesday','wednesday','thursday','friday','saturday','sunday']\n",
        "days"
      ],
      "metadata": {
        "colab": {
          "base_uri": "https://localhost:8080/"
        },
        "id": "npIJFg-INVen",
        "outputId": "0386d09d-04d8-48aa-9fa4-65fdf92b54c9"
      },
      "execution_count": null,
      "outputs": [
        {
          "output_type": "execute_result",
          "data": {
            "text/plain": [
              "['monday', 'tuesday', 'wednesday', 'thursday', 'friday', 'saturday', 'sunday']"
            ]
          },
          "metadata": {},
          "execution_count": 13
        }
      ]
    },
    {
      "cell_type": "code",
      "source": [
        "days[1]\n"
      ],
      "metadata": {
        "colab": {
          "base_uri": "https://localhost:8080/",
          "height": 35
        },
        "id": "DmNjx2xGNVhX",
        "outputId": "1f6701d5-d5d9-4a3a-ad76-badb67ed62ad"
      },
      "execution_count": null,
      "outputs": [
        {
          "output_type": "execute_result",
          "data": {
            "text/plain": [
              "'tuesday'"
            ],
            "application/vnd.google.colaboratory.intrinsic+json": {
              "type": "string"
            }
          },
          "metadata": {},
          "execution_count": 14
        }
      ]
    },
    {
      "cell_type": "code",
      "source": [
        "#negative indexing:\n",
        "#creating a list without constructor():\n",
        "days=['monday','tuesday','wednesday','thursday','friday','saturday','sunday']\n",
        "days[-1]"
      ],
      "metadata": {
        "colab": {
          "base_uri": "https://localhost:8080/",
          "height": 35
        },
        "id": "hG0SSYlDONf_",
        "outputId": "38857f16-72b7-45e1-997d-84f40e1b661f"
      },
      "execution_count": null,
      "outputs": [
        {
          "output_type": "execute_result",
          "data": {
            "text/plain": [
              "'sunday'"
            ],
            "application/vnd.google.colaboratory.intrinsic+json": {
              "type": "string"
            }
          },
          "metadata": {},
          "execution_count": 15
        }
      ]
    },
    {
      "cell_type": "code",
      "source": [
        "days[:]"
      ],
      "metadata": {
        "colab": {
          "base_uri": "https://localhost:8080/"
        },
        "id": "ljFTa7PsONiv",
        "outputId": "dfda07e2-a812-4fd6-c47b-9311a7e11f6d"
      },
      "execution_count": null,
      "outputs": [
        {
          "output_type": "execute_result",
          "data": {
            "text/plain": [
              "['monday', 'tuesday', 'wednesday', 'thursday', 'friday', 'saturday', 'sunday']"
            ]
          },
          "metadata": {},
          "execution_count": 16
        }
      ]
    },
    {
      "cell_type": "code",
      "source": [
        "#list slicing:\n",
        "days[1:4]"
      ],
      "metadata": {
        "colab": {
          "base_uri": "https://localhost:8080/"
        },
        "id": "A1jF3rkaONlX",
        "outputId": "9d99fdf1-5edd-448a-d432-b898a8b1930c"
      },
      "execution_count": null,
      "outputs": [
        {
          "output_type": "execute_result",
          "data": {
            "text/plain": [
              "['tuesday', 'wednesday', 'thursday']"
            ]
          },
          "metadata": {},
          "execution_count": 17
        }
      ]
    },
    {
      "cell_type": "code",
      "source": [
        "#list slicing with step size:\n",
        "days=['monday','tuesday','wednesday','thursday','friday','saturday','sunday']\n",
        "days[1:4:2]\n"
      ],
      "metadata": {
        "colab": {
          "base_uri": "https://localhost:8080/"
        },
        "id": "F4suzGK5ONnn",
        "outputId": "13f515e8-cff3-49fa-803e-72b12a1be0f8"
      },
      "execution_count": null,
      "outputs": [
        {
          "output_type": "execute_result",
          "data": {
            "text/plain": [
              "['tuesday', 'thursday']"
            ]
          },
          "metadata": {},
          "execution_count": 18
        }
      ]
    },
    {
      "cell_type": "code",
      "source": [
        "#example1:\n",
        "days=['monday','tuesday','wednesday','thursday','friday','saturday','sunday']\n",
        "len(days)\n"
      ],
      "metadata": {
        "colab": {
          "base_uri": "https://localhost:8080/"
        },
        "id": "5169-R00OY13",
        "outputId": "bad4e009-2032-4f7b-d5cf-d6a961fb1a93"
      },
      "execution_count": null,
      "outputs": [
        {
          "output_type": "execute_result",
          "data": {
            "text/plain": [
              "7"
            ]
          },
          "metadata": {},
          "execution_count": 19
        }
      ]
    },
    {
      "cell_type": "code",
      "source": [
        "numbers=[1,2,3,4,5,6,7,8]\n",
        "max(numbers)\n"
      ],
      "metadata": {
        "colab": {
          "base_uri": "https://localhost:8080/"
        },
        "id": "VJjUM6YYOY5P",
        "outputId": "44d167f4-c6dc-44bc-c00b-cae8688112dc"
      },
      "execution_count": null,
      "outputs": [
        {
          "output_type": "execute_result",
          "data": {
            "text/plain": [
              "8"
            ]
          },
          "metadata": {},
          "execution_count": 20
        }
      ]
    },
    {
      "cell_type": "code",
      "source": [
        "numbers=[1,2,3,4,5,6,7,8]\n",
        "min(numbers)"
      ],
      "metadata": {
        "colab": {
          "base_uri": "https://localhost:8080/"
        },
        "id": "c07luC5yOY7m",
        "outputId": "e7d14cda-5cb9-464e-d58b-01131940f122"
      },
      "execution_count": null,
      "outputs": [
        {
          "output_type": "execute_result",
          "data": {
            "text/plain": [
              "1"
            ]
          },
          "metadata": {},
          "execution_count": 21
        }
      ]
    },
    {
      "cell_type": "code",
      "source": [
        "numbers=[1,2,3,4,5,6,7,8]\n",
        "sum(numbers)\n"
      ],
      "metadata": {
        "colab": {
          "base_uri": "https://localhost:8080/"
        },
        "id": "ln4Jhuj6ONp3",
        "outputId": "106f3ecf-5561-4295-e1e7-3f330a20b5d5"
      },
      "execution_count": null,
      "outputs": [
        {
          "output_type": "execute_result",
          "data": {
            "text/plain": [
              "36"
            ]
          },
          "metadata": {},
          "execution_count": 22
        }
      ]
    },
    {
      "cell_type": "code",
      "source": [
        "import random\n",
        "numbers=[1,2,3,4,5,6,7,8]\n",
        "random.shuffle(numbers)\n",
        "print(numbers)\n"
      ],
      "metadata": {
        "colab": {
          "base_uri": "https://localhost:8080/"
        },
        "id": "J2ixIRqLOjIH",
        "outputId": "0a7ed2fa-f165-46ba-f4a6-9d30235bdc1c"
      },
      "execution_count": null,
      "outputs": [
        {
          "output_type": "stream",
          "name": "stdout",
          "text": [
            "[6, 7, 8, 2, 1, 4, 3, 5]\n"
          ]
        }
      ]
    },
    {
      "cell_type": "code",
      "source": [
        "#examples on operator:\n",
        "a=[1,2,3]\n",
        "b=[4,5,6]\n",
        "c=a+b\n",
        "print(c)"
      ],
      "metadata": {
        "colab": {
          "base_uri": "https://localhost:8080/"
        },
        "id": "qNODMsxAOjK3",
        "outputId": "f108bd45-e90e-476f-ec87-fe1659409686"
      },
      "execution_count": null,
      "outputs": [
        {
          "output_type": "stream",
          "name": "stdout",
          "text": [
            "[1, 2, 3, 4, 5, 6]\n"
          ]
        }
      ]
    },
    {
      "cell_type": "code",
      "source": [
        "a=[10,20]\n",
        "b=3*a\n",
        "print(b)"
      ],
      "metadata": {
        "id": "SvoMJjimOjNP",
        "colab": {
          "base_uri": "https://localhost:8080/"
        },
        "outputId": "0f14658b-4431-4c80-d8ce-f5a1373c0e1a"
      },
      "execution_count": 25,
      "outputs": [
        {
          "output_type": "stream",
          "name": "stdout",
          "text": [
            "[10, 20, 10, 20, 10, 20]\n"
          ]
        }
      ]
    },
    {
      "cell_type": "code",
      "source": [
        "days=['monday','tuesday','wednesday','thursday','friday','saturday','sunday']\n",
        "'wednesday' in days"
      ],
      "metadata": {
        "id": "whkOP0GPOjPZ",
        "colab": {
          "base_uri": "https://localhost:8080/"
        },
        "outputId": "ab76dbc6-cb47-4f19-ecfa-8c46923c396c"
      },
      "execution_count": 26,
      "outputs": [
        {
          "output_type": "execute_result",
          "data": {
            "text/plain": [
              "True"
            ]
          },
          "metadata": {},
          "execution_count": 26
        }
      ]
    },
    {
      "cell_type": "code",
      "source": [
        "ays=['monday','tuesday','wednesday','thursday','friday','saturday','sunday']\n",
        "'wednesday' not in days"
      ],
      "metadata": {
        "id": "-V2jMdSWO1zv",
        "colab": {
          "base_uri": "https://localhost:8080/"
        },
        "outputId": "f79286d8-eb85-49a1-cecb-c354e9fa259c"
      },
      "execution_count": 27,
      "outputs": [
        {
          "output_type": "execute_result",
          "data": {
            "text/plain": [
              "False"
            ]
          },
          "metadata": {},
          "execution_count": 27
        }
      ]
    },
    {
      "cell_type": "code",
      "source": [
        "a='Arshiya'\n",
        "b='Arshiya'\n",
        "a is b\n"
      ],
      "metadata": {
        "id": "DVZ1RlDNO123",
        "colab": {
          "base_uri": "https://localhost:8080/"
        },
        "outputId": "0577de84-78f0-4dac-a21f-42de1dedfc67"
      },
      "execution_count": 28,
      "outputs": [
        {
          "output_type": "execute_result",
          "data": {
            "text/plain": [
              "True"
            ]
          },
          "metadata": {},
          "execution_count": 28
        }
      ]
    },
    {
      "cell_type": "code",
      "source": [
        "a='Arshiya'\n",
        "b='Lubna'\n",
        "a is b\n"
      ],
      "metadata": {
        "id": "rGUGPxZ2O18f",
        "colab": {
          "base_uri": "https://localhost:8080/"
        },
        "outputId": "e7985c77-2a8f-48cf-946b-9092b9de76b9"
      },
      "execution_count": 29,
      "outputs": [
        {
          "output_type": "execute_result",
          "data": {
            "text/plain": [
              "False"
            ]
          },
          "metadata": {},
          "execution_count": 29
        }
      ]
    },
    {
      "cell_type": "code",
      "source": [
        "days=['monday','tuesday','wednesday','thursday','friday','saturday','sunday']\n",
        "del[days[1]]\n",
        "days"
      ],
      "metadata": {
        "id": "0laqdIExO2Cg",
        "colab": {
          "base_uri": "https://localhost:8080/"
        },
        "outputId": "9e0362e8-031f-496e-c7e7-8e40ffaa262a"
      },
      "execution_count": 30,
      "outputs": [
        {
          "output_type": "execute_result",
          "data": {
            "text/plain": [
              "['monday', 'wednesday', 'thursday', 'friday', 'saturday', 'sunday']"
            ]
          },
          "metadata": {},
          "execution_count": 30
        }
      ]
    },
    {
      "cell_type": "code",
      "source": [
        "a=['a','b','c','d']\n",
        "print(a)\n",
        "a.append('e')\n",
        "print(a)\n"
      ],
      "metadata": {
        "id": "Z0isQCx8OjSC",
        "colab": {
          "base_uri": "https://localhost:8080/"
        },
        "outputId": "ad0ef495-3543-42d8-e3db-57b2479955ef"
      },
      "execution_count": 31,
      "outputs": [
        {
          "output_type": "stream",
          "name": "stdout",
          "text": [
            "['a', 'b', 'c', 'd']\n",
            "['a', 'b', 'c', 'd', 'e']\n"
          ]
        }
      ]
    },
    {
      "cell_type": "code",
      "source": [
        "list=['red','orange','pink','black']\n",
        "print(list)\n",
        "list.clear()\n",
        "print(list)"
      ],
      "metadata": {
        "colab": {
          "base_uri": "https://localhost:8080/"
        },
        "id": "ixGzUC2XPVAn",
        "outputId": "77b75762-44e8-4d78-f415-cabedf85f4f8"
      },
      "execution_count": 32,
      "outputs": [
        {
          "output_type": "stream",
          "name": "stdout",
          "text": [
            "['red', 'orange', 'pink', 'black']\n",
            "[]\n"
          ]
        }
      ]
    },
    {
      "cell_type": "code",
      "source": [
        "nums=[1,2,3,4,1,4,1,7,8,1]\n",
        "print(nums)\n",
        "nums.count(1)"
      ],
      "metadata": {
        "colab": {
          "base_uri": "https://localhost:8080/"
        },
        "id": "V4_BkpK8PVC_",
        "outputId": "69106aa8-5dfa-4e42-8203-ba43b2ffb9d5"
      },
      "execution_count": 33,
      "outputs": [
        {
          "output_type": "stream",
          "name": "stdout",
          "text": [
            "[1, 2, 3, 4, 1, 4, 1, 7, 8, 1]\n"
          ]
        },
        {
          "output_type": "execute_result",
          "data": {
            "text/plain": [
              "4"
            ]
          },
          "metadata": {},
          "execution_count": 33
        }
      ]
    },
    {
      "cell_type": "code",
      "source": [
        "list_1=[1,2,3,4]\n",
        "print(list_1)\n",
        "list_2=list_1.copy()\n",
        "print(list_2)\n"
      ],
      "metadata": {
        "colab": {
          "base_uri": "https://localhost:8080/"
        },
        "id": "L49D-VOvPVHH",
        "outputId": "e83820bf-c3f3-4aa0-ad5a-023eda714306"
      },
      "execution_count": 34,
      "outputs": [
        {
          "output_type": "stream",
          "name": "stdout",
          "text": [
            "[1, 2, 3, 4]\n",
            "[1, 2, 3, 4]\n"
          ]
        }
      ]
    },
    {
      "cell_type": "code",
      "source": [
        "A=[1,3,2,4,5]\n",
        "B=[5,6,7,3,6]\n",
        "print(A)\n",
        "print(B)\n",
        "A.extend(B)\n",
        "print(A)\n"
      ],
      "metadata": {
        "colab": {
          "base_uri": "https://localhost:8080/"
        },
        "id": "2apXmFpHPVJ_",
        "outputId": "74fdbc3d-2a03-4a62-cce8-7e5294f34c81"
      },
      "execution_count": 35,
      "outputs": [
        {
          "output_type": "stream",
          "name": "stdout",
          "text": [
            "[1, 3, 2, 4, 5]\n",
            "[5, 6, 7, 3, 6]\n",
            "[1, 3, 2, 4, 5, 5, 6, 7, 3, 6]\n"
          ]
        }
      ]
    },
    {
      "cell_type": "code",
      "source": [
        "a=(5,)\n",
        "print(a)\n",
        "print(type(a))"
      ],
      "metadata": {
        "colab": {
          "base_uri": "https://localhost:8080/"
        },
        "id": "rA1H1IzTPVMf",
        "outputId": "b49c4f95-1db3-4cd7-e243-c4030ef5646c"
      },
      "execution_count": 36,
      "outputs": [
        {
          "output_type": "stream",
          "name": "stdout",
          "text": [
            "(5,)\n",
            "<class 'tuple'>\n"
          ]
        }
      ]
    },
    {
      "cell_type": "code",
      "source": [
        "a=(1,2,3,4,5)\n",
        "print(a)"
      ],
      "metadata": {
        "colab": {
          "base_uri": "https://localhost:8080/"
        },
        "id": "Xln1cnwoPVOu",
        "outputId": "2a00724f-e659-494f-f8ec-3a694e0fe639"
      },
      "execution_count": 38,
      "outputs": [
        {
          "output_type": "stream",
          "name": "stdout",
          "text": [
            "(1, 2, 3, 4, 5)\n"
          ]
        }
      ]
    },
    {
      "cell_type": "code",
      "source": [
        "#creating tuple with float numbers\n",
        "b=(6.5,5.9,2.0)\n",
        "print(b)\n"
      ],
      "metadata": {
        "colab": {
          "base_uri": "https://localhost:8080/"
        },
        "id": "FMn3FamxPVRA",
        "outputId": "46529f56-98a3-4681-bb61-ca80f0367097"
      },
      "execution_count": 40,
      "outputs": [
        {
          "output_type": "stream",
          "name": "stdout",
          "text": [
            "(6.5, 5.9, 2.0)\n"
          ]
        }
      ]
    },
    {
      "cell_type": "code",
      "source": [
        "#creating tuple with strings\n",
        "c=('one','two','three')\n",
        "c"
      ],
      "metadata": {
        "colab": {
          "base_uri": "https://localhost:8080/"
        },
        "id": "BW33igCgQHQg",
        "outputId": "ac1c841b-fe6e-4007-9072-9b56198b686c"
      },
      "execution_count": 41,
      "outputs": [
        {
          "output_type": "execute_result",
          "data": {
            "text/plain": [
              "('one', 'two', 'three')"
            ]
          },
          "metadata": {},
          "execution_count": 41
        }
      ]
    },
    {
      "cell_type": "code",
      "source": [
        "#creating tuple multiple data types\n",
        "mix=('hello',708,66.8,1,2)\n",
        "mix"
      ],
      "metadata": {
        "colab": {
          "base_uri": "https://localhost:8080/"
        },
        "id": "i0uem3RTQHSv",
        "outputId": "523d5c67-69c9-444e-ca1b-8ecec0165a16"
      },
      "execution_count": 42,
      "outputs": [
        {
          "output_type": "execute_result",
          "data": {
            "text/plain": [
              "('hello', 708, 66.8, 1, 2)"
            ]
          },
          "metadata": {},
          "execution_count": 42
        }
      ]
    },
    {
      "cell_type": "code",
      "source": [
        "a=(1,2,3,4,\"hello\")\n",
        "print(a[4])"
      ],
      "metadata": {
        "colab": {
          "base_uri": "https://localhost:8080/"
        },
        "id": "NsVLSGaZQHVP",
        "outputId": "82e8d56b-1054-45c2-8868-8fe980615c1f"
      },
      "execution_count": 43,
      "outputs": [
        {
          "output_type": "stream",
          "name": "stdout",
          "text": [
            "hello\n"
          ]
        }
      ]
    },
    {
      "cell_type": "code",
      "source": [
        "a={\n",
        "    \"name\":\"joy\",\n",
        "    \"age\":23,\n",
        "    \"education\":\"Engineer\"\n",
        "}\n",
        "print(a)"
      ],
      "metadata": {
        "colab": {
          "base_uri": "https://localhost:8080/"
        },
        "id": "vCs87AL1QHXt",
        "outputId": "ce3ed307-e1aa-4959-ede8-91f436f66d4b"
      },
      "execution_count": 44,
      "outputs": [
        {
          "output_type": "stream",
          "name": "stdout",
          "text": [
            "{'name': 'joy', 'age': 23, 'education': 'Engineer'}\n"
          ]
        }
      ]
    },
    {
      "cell_type": "code",
      "source": [
        "len(a)"
      ],
      "metadata": {
        "colab": {
          "base_uri": "https://localhost:8080/"
        },
        "id": "1ygFXtSZQHZ_",
        "outputId": "43adae01-f092-4f5b-dbe1-52175308ad3c"
      },
      "execution_count": 45,
      "outputs": [
        {
          "output_type": "execute_result",
          "data": {
            "text/plain": [
              "3"
            ]
          },
          "metadata": {},
          "execution_count": 45
        }
      ]
    },
    {
      "cell_type": "code",
      "source": [
        "type(a)"
      ],
      "metadata": {
        "colab": {
          "base_uri": "https://localhost:8080/"
        },
        "id": "i8cA1aanQHcf",
        "outputId": "38ca94b3-da2b-478e-9c5c-1dbe4b4c028a"
      },
      "execution_count": 46,
      "outputs": [
        {
          "output_type": "execute_result",
          "data": {
            "text/plain": [
              "dict"
            ]
          },
          "metadata": {},
          "execution_count": 46
        }
      ]
    },
    {
      "cell_type": "code",
      "source": [
        "x=a.keys()\n",
        "x"
      ],
      "metadata": {
        "colab": {
          "base_uri": "https://localhost:8080/"
        },
        "id": "_yXQyZg8QHfA",
        "outputId": "3936a1ad-10df-4778-bbad-ea8251d6f7c6"
      },
      "execution_count": 48,
      "outputs": [
        {
          "output_type": "execute_result",
          "data": {
            "text/plain": [
              "dict_keys(['name', 'age', 'education'])"
            ]
          },
          "metadata": {},
          "execution_count": 48
        }
      ]
    },
    {
      "cell_type": "code",
      "source": [
        "y=a.values()\n",
        "y"
      ],
      "metadata": {
        "colab": {
          "base_uri": "https://localhost:8080/"
        },
        "id": "o0CojitZREsg",
        "outputId": "03b35d47-ba37-40cc-aa8c-014982972e57"
      },
      "execution_count": 49,
      "outputs": [
        {
          "output_type": "execute_result",
          "data": {
            "text/plain": [
              "dict_values(['joy', 23, 'Engineer'])"
            ]
          },
          "metadata": {},
          "execution_count": 49
        }
      ]
    },
    {
      "cell_type": "code",
      "source": [
        "z=a.items()\n",
        "z"
      ],
      "metadata": {
        "colab": {
          "base_uri": "https://localhost:8080/"
        },
        "id": "gYAYHqJJREvH",
        "outputId": "4f52f247-bc41-451a-9c08-007656f4d4c1"
      },
      "execution_count": 50,
      "outputs": [
        {
          "output_type": "execute_result",
          "data": {
            "text/plain": [
              "dict_items([('name', 'joy'), ('age', 23), ('education', 'Engineer')])"
            ]
          },
          "metadata": {},
          "execution_count": 50
        }
      ]
    },
    {
      "cell_type": "code",
      "source": [
        "\n",
        "set1={1,2,3,4}\n",
        "print(set1)"
      ],
      "metadata": {
        "colab": {
          "base_uri": "https://localhost:8080/"
        },
        "id": "KcLZT4tkRExf",
        "outputId": "081d1e96-e53b-444b-d2d3-8ac8439a0598"
      },
      "execution_count": 51,
      "outputs": [
        {
          "output_type": "stream",
          "name": "stdout",
          "text": [
            "{1, 2, 3, 4}\n"
          ]
        }
      ]
    },
    {
      "cell_type": "code",
      "source": [
        "\n",
        "set={1,2,3,4,5,6,7,1,1}\n",
        "set"
      ],
      "metadata": {
        "colab": {
          "base_uri": "https://localhost:8080/"
        },
        "id": "b7oS5moxREzn",
        "outputId": "58850704-4e73-4bf8-a074-73934ff50abd"
      },
      "execution_count": 52,
      "outputs": [
        {
          "output_type": "execute_result",
          "data": {
            "text/plain": [
              "{1, 2, 3, 4, 5, 6, 7}"
            ]
          },
          "metadata": {},
          "execution_count": 52
        }
      ]
    },
    {
      "cell_type": "code",
      "source": [
        "len(a)"
      ],
      "metadata": {
        "colab": {
          "base_uri": "https://localhost:8080/"
        },
        "id": "odRTY19yRE17",
        "outputId": "7fffb5b0-c1dc-4347-e25f-3f0d712cffd6"
      },
      "execution_count": 53,
      "outputs": [
        {
          "output_type": "execute_result",
          "data": {
            "text/plain": [
              "3"
            ]
          },
          "metadata": {},
          "execution_count": 53
        }
      ]
    },
    {
      "cell_type": "code",
      "source": [
        "type(set)"
      ],
      "metadata": {
        "colab": {
          "base_uri": "https://localhost:8080/"
        },
        "id": "z-Tph0wGRE4Q",
        "outputId": "b318a97d-bcfc-4e19-9a8b-1afd72901ed5"
      },
      "execution_count": 54,
      "outputs": [
        {
          "output_type": "execute_result",
          "data": {
            "text/plain": [
              "set"
            ]
          },
          "metadata": {},
          "execution_count": 54
        }
      ]
    },
    {
      "cell_type": "code",
      "source": [
        "def add():\n",
        " a=2\n",
        " b=3\n",
        " sum=a+b\n",
        " return sum\n",
        "add()\n",
        "print(add())\n"
      ],
      "metadata": {
        "colab": {
          "base_uri": "https://localhost:8080/"
        },
        "id": "78Ms4IgpRjxU",
        "outputId": "3ea56908-1e62-4207-891c-4bad693181f2"
      },
      "execution_count": 56,
      "outputs": [
        {
          "output_type": "stream",
          "name": "stdout",
          "text": [
            "5\n"
          ]
        }
      ]
    },
    {
      "cell_type": "code",
      "source": [
        "def collectdata():\n",
        "\n"
      ],
      "metadata": {
        "id": "HNcNtgYSRjzv"
      },
      "execution_count": null,
      "outputs": []
    },
    {
      "cell_type": "code",
      "source": [
        "def collectdata():\n",
        " s='function to collect data'\n",
        " s\n",
        "\n",
        "def cleandata():\n",
        " s='function to clean data'\n",
        " s\n",
        "\n",
        "def processdata():\n",
        " s='function to pre-process the data'\n",
        " s\n",
        "\n",
        "def exploredata():\n",
        " s='function to explore data'\n",
        " s\n",
        "\n",
        "def visualization():\n",
        " s='function to viasualize data'\n",
        " s\n",
        "\n",
        "#main program:\n",
        "collectdata()\n",
        "cleandata()\n",
        "processdata()\n",
        "exploredata()\n",
        "visualization()"
      ],
      "metadata": {
        "id": "TJqGISr9RE6X"
      },
      "execution_count": 61,
      "outputs": []
    },
    {
      "cell_type": "code",
      "source": [],
      "metadata": {
        "id": "xjPQW_2SRE8q"
      },
      "execution_count": null,
      "outputs": []
    },
    {
      "cell_type": "code",
      "source": [],
      "metadata": {
        "id": "Ig2JjK_nRE_C"
      },
      "execution_count": null,
      "outputs": []
    },
    {
      "cell_type": "code",
      "source": [],
      "metadata": {
        "id": "OHvS0iOdONsi"
      },
      "execution_count": null,
      "outputs": []
    }
  ]
}